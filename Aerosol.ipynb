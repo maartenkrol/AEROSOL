{
 "cells": [
  {
   "cell_type": "markdown",
   "metadata": {
    "slideshow": {
     "slide_type": "slide"
    }
   },
   "source": [
    "# Aerosol Measurements\n",
    "------------"
   ]
  },
  {
   "cell_type": "markdown",
   "metadata": {
    "slideshow": {
     "slide_type": "fragment"
    }
   },
   "source": [
    "<figure>\n",
    "<img = src=\"rs6.png\">\n",
    "</figure>"
   ]
  },
  {
   "cell_type": "markdown",
   "metadata": {
    "slideshow": {
     "slide_type": "fragment"
    }
   },
   "source": [
    "## Maarten Krol, September 2018"
   ]
  },
  {
   "cell_type": "markdown",
   "metadata": {
    "slideshow": {
     "slide_type": "fragment"
    }
   },
   "source": [
    "### maarten.krol@wur.nl"
   ]
  },
  {
   "cell_type": "markdown",
   "metadata": {
    "slideshow": {
     "slide_type": "slide"
    }
   },
   "source": [
    "1. Goal\n",
    "-------\n",
    "\n",
    "To highlight the principles of remote sensing and radiative transfer by means \n",
    "of radiation measurements of solar radiation at the Earth surface. \n",
    "Information can be retrieved about aerosols that are present between the \n",
    "sun and the observational point at the surface. \n",
    "The retrieval method that will be used is the Langley method. \n",
    "\n",
    "2. Societal Relevance\n",
    "---------\n",
    "Human activities have severely perturbed the atmospheric composition since the industrial revolution. Apart from perturbations to the levels of greenhouse gases (methane, carbon dioxide, ozone) perturbations have been made to the abundance of aerosols. Aerosols are natural and man-made particles in the atmosphere that are much larger than single air molecules. Sea-salt and dust are examples of naturally occurring aerosols. These aerosols become airborne mostly as a result of wind action on ocean and desert surfaces and are normally quite large (r > 1 μm). Smaller aerosols (r < 1 μm) are either formed in the atmosphere itself due to condensation of non-volatile gases, or directly emitted, e.g. due to combustion processes. Examples of gases that form aerosols are nitric and sulfuric acid, and oxidation products of organic material. These smaller aerosols have an important man-made contribution, since nitric acid and sulphuric acid are products of emissions of NO and SO$_2$. These aerosol precursor gases are released during combustion processes (cars, factories, ..). Another important source of aerosols is biomass burning, which emits large amounts of carbon (black carbon, black smoke, or soot). Also, diesel engines are important emitters of black carbon. In heavily populated and industrial areas, like the Netherlands or the Po-valley, the aerosol burdens are so high that they pose a threat to human health. Indeed, there is a clear relation between aerosol concentration and the occurrence of cardio-vascular diseases. \n",
    "\n"
   ]
  },
  {
   "cell_type": "markdown",
   "metadata": {},
   "source": [
    "<figure>\n",
    "  <img src=\"rs3.png\">\n",
    "  <figcaption><i>Figure 1: The radiaton balance of the atmosphere for solar (left) and terrestrial (right) radiation.</i></figcaption>\n",
    "</figure>"
   ]
  },
  {
   "cell_type": "markdown",
   "metadata": {
    "slideshow": {
     "slide_type": "subslide"
    }
   },
   "source": [
    "Apart from the toxic nature of aerosols close to the Earth surface, aerosols also have an important effect on climate. As depicted in figure 1, scattering aerosols reflect part of the incoming radiation back to space. In that sense, aerosols have a cooling effect on climate. However, some aerosols like black carbon are highly absorbing. These aerosols are thought to have a warming effect on climate, since they trap solar energy. Finally, aerosols are precursors of clouds and rain droplets. A change in the composition and abundance of aerosols may therefore influence rainfall and the lifetime and nature of clouds (longer living and more reflective). These are important indirect effects of aerosols. All in all, there are many reasons to study the occurrence and properties of aerosols. \n",
    "\n",
    "3. Theory\n",
    "------\n",
    "    3.1 Radiation and the interaction with gases and aerosol\n",
    "\n",
    "Aerosols interact with electromagnetic radiation. Here we will consider the interaction of aerosols with solar light. First, however, some words about radiation and the interaction of radiation with molecules, aerosols, and clouds.\n",
    "The temperature of the sun is about 5800 K, and a blackbody of that temperature emits radiation predominantly at wavelengths in the visible range (400-700 nm). Outside this range -in the ultra-violet and near-infrared part of the spectrum- the sun also emits radiation, but relatively less. In contrast, the Earth (temperature about 300 K) emits radiation predominantly in the infrared spectral region around 10 μm (1 μm = 1 micron = 1000 nm).See figure 2a.\n"
   ]
  },
  {
   "cell_type": "markdown",
   "metadata": {
    "slideshow": {
     "slide_type": "slide"
    }
   },
   "source": [
    "<figure>\n",
    "  <img src=\"rs1.png\">\n",
    "  <figcaption><i>Figure 2a, from Stephens (1994): Planck’s blackbody curve at three temperatures. B$_λ$ is shown is Watt per square meter per ster-radian. The figure shows that hot bodies (i) emit more radiation (the integral scales with T4) (ii) have the maximum emission at shorter wavelength.</i></figcaption>\n",
    "</figure>"
   ]
  },
  {
   "cell_type": "markdown",
   "metadata": {
    "slideshow": {
     "slide_type": "fragment"
    }
   },
   "source": [
    "*Figure 2a, from Stephens (1994): Planck’s blackbody curve at three temperatures. B$_λ$ is shown is Watt per square meter per ster-radian. The figure shows that hot bodies (i) emit more radiation (the integral scales with T4) (ii) have the maximum emission at shorter wavelength.*"
   ]
  },
  {
   "cell_type": "markdown",
   "metadata": {
    "slideshow": {
     "slide_type": "slide"
    }
   },
   "source": [
    "<figure>\n",
    "  <img src=\"rs2.png\">\n",
    "  <figcaption><i>Figure 2b, from Jacob (1999): solar radiation spectrum measured outside the atmosphere and at sea level. Here the units are Watt per square meter per micron wavelength.</i></figcaption>\n",
    "</figure>"
   ]
  },
  {
   "cell_type": "markdown",
   "metadata": {
    "slideshow": {
     "slide_type": "fragment"
    }
   },
   "source": [
    "From figure 2b it is clear that not all the solar radiation that reaches the outer atmospheric layers penetrates all the way down to sea level. First of all, clouds reflect a part of the radiation back to space. As illustrated in figure 1 (left) about 19% of the incoming radiation is reflected back by this process. Next, air molecules (N$_2$, O$_2$) scatter solar radiation in a process that is called Rayleigh scattering. Rayleigh scattering occurs when the particles (air molecules) are small compared to the wavelength of the radiation. Indeed, the size of a single molecule is much smaller than the wavelengths of solar radiation. Rayleigh scattering transforms direct sunlight (what you notice when you look directly into the sun) into diffuse solar radiation (e.g. the daylight under cloudy conditions).  Rayleigh scattering is more efficient at the shorter wavelengths (towards the blue/ultra-violet) and this effect causes the sky to be blue. Thirdly, some atmospheric trace gases absorb solar radiation. For instance, ozone in the stratosphere absorbs almost all the harmful solar radiation in the ultraviolet spectral region. But gases like NO$_2$, HCHO, H$_2$O also have absorption bands in the solar spectrum. However, exactly in the visible wavelength range, hardly any gaseous absorption takes place. \n",
    "Finally, there is the action of dust and haze. These are aerosols that vary in size from about 0.1 micron to 10 micron. Aerosols may grow due to condensation of gases,  coagulation with other aerosols, and uptake of water vapor. If the relative humidity is high, aerosols may get activated to form cloud droplets. Due to this water uptake, the size of cloud and rain droplets is larger than that of non-activated aerosol. The size of particles, compared to the wavelength of light is very important for the way these particles interact with the radiation as depicted in figure 3. "
   ]
  },
  {
   "cell_type": "markdown",
   "metadata": {
    "slideshow": {
     "slide_type": "slide"
    }
   },
   "source": [
    "<figure>\n",
    "  <img src=\"rs4.png\">\n",
    "  <figcaption><i>Figure 3: Interaction of molecules, aerosols and clouds with radiation of different wavelength. For solar radiation, air molecules cause Rayleigh scattering, aerosols Mie scattering, and clouds and rain geometric optics (from Stephens (1994)).</i>}</figcaption>\n",
    "</figure>"
   ]
  },
  {
   "cell_type": "markdown",
   "metadata": {
    "slideshow": {
     "slide_type": "slide"
    }
   },
   "source": [
    "    3.2 Radiative transfer formulation\n",
    "\n",
    "A convenient quantity to describe the total amount of aerosol in a column of air is the Aerosol Optical Thickness (AOT). An optical depth is a dimensionless quantity that quantifies how efficiently a beam of radiation is weakened. From the theory it is clear that – in the absence of clouds – the direct solar beam depicted in figure 4 is weakened by three processes (i) Rayleigh scattering by air molecules (ii) gaseous absorption in specific absorption bands, and (iii) Mie scattering and absorption by aerosols. These processes all have their own wavelength (λ) dependent optical depth τ$_λ$.  "
   ]
  },
  {
   "cell_type": "markdown",
   "metadata": {
    "slideshow": {
     "slide_type": "slide"
    }
   },
   "source": [
    "\\begin{equation}\n",
    "\\tau_\\lambda^* = \\tau_{\\lambda,Rayleigh} + \\tau_{\\lambda,Abs} + \\tau_{\\lambda,Aerosol}\n",
    "\\end{equation}"
   ]
  },
  {
   "cell_type": "markdown",
   "metadata": {
    "slideshow": {
     "slide_type": "fragment"
    }
   },
   "source": [
    "According to Lambert Beers’ law, the intensity of the solar beam at the surface (L$_λ$) as a function of the total optical depth (τ$_λ^∗$) and the solar zenith angle θ$_0$ (see figure 4) is given by:"
   ]
  },
  {
   "cell_type": "markdown",
   "metadata": {
    "slideshow": {
     "slide_type": "fragment"
    }
   },
   "source": [
    "\\begin{eqnarray}\n",
    "L_{\\lambda}(\\tau_\\lambda^*)  = L_\\lambda(\\tau_\\lambda = 0) \\exp\\left(-\\tau_\\lambda^*/\\cos{\\theta_0}\\right) \\\\\n",
    "ln{L_{\\lambda}(\\tau_\\lambda^*)} = ln{L_\\lambda(\\tau_\\lambda = 0)} - \\tau_\\lambda^*/\\cos{\\theta_0}\n",
    "\\end{eqnarray}"
   ]
  },
  {
   "cell_type": "markdown",
   "metadata": {
    "slideshow": {
     "slide_type": "slide"
    }
   },
   "source": [
    "where L$_λ$(τ$_λ$ = 0) is the intensity of solar light at the top of the atmosphere (TOA). \n",
    "\n",
    "<figure>\n",
    "  <img src=\"rs5.png\">\n",
    "  <figcaption><i>Figure 4a: Geometry of the aerosol measurements. TOA = top of atmosphere. The solar zenith angle is denoted as θ$_0$. τ$_λ$ denotes the total optical thickness.</i>}</figcaption>\n",
    "</figure>"
   ]
  },
  {
   "cell_type": "markdown",
   "metadata": {
    "slideshow": {
     "slide_type": "slide"
    }
   },
   "source": [
    "<figure>\n",
    "  <img src=\"rs9.jpg\">\n",
    "  <figcaption> <i>Figure 4b: the relation between a slant path (ds) and a vertical path (dz) through the atmosphere.</i></figcaption>\n",
    "</figure>"
   ]
  },
  {
   "cell_type": "markdown",
   "metadata": {
    "slideshow": {
     "slide_type": "slide"
    }
   },
   "source": [
    "The basic principle of the analysis is to measure at the surface the intensity of the direct sunlight during sunset and/or sunrise at various wavelengths. According to the theory above, the natural logarithm of the intensity should have a linear relation with the air mass (m = 1/cos(θ$_0$)). The air mass changes relatively fast during sunset and sunrise and (hopefully) the aerosol properties do not change drastically during that period. A plot of ln(L$_λ$) against the air-mass m is called a Langley plot (figure 5). If the optical thickness stays constant during the measurement period, theory predicts a straight line as in figure 5. From the formula above, the optical depth is given by the slope of the line. The intercept at m=0 should give the TOA solar intensity ln(L$_λ$(τ=0)).\n"
   ]
  },
  {
   "cell_type": "markdown",
   "metadata": {
    "slideshow": {
     "slide_type": "slide"
    }
   },
   "source": [
    "<figure>\n",
    "  <img src=\"rs7.png\">\n",
    "  <figcaption> <i>Figure 5: example of a Langley plot (from Stephens (1994)). The vertical axis represents the output of the instrument.</i></figcaption>\n",
    "</figure>"
   ]
  },
  {
   "cell_type": "markdown",
   "metadata": {
    "slideshow": {
     "slide_type": "slide"
    }
   },
   "source": [
    "The analysis of a Langley plot at different wavelengths provides the optical depth at different wavelengths. For instance, from figure 5 it is clear that the optical depth (slope) increases with decreasing wavelength."
   ]
  },
  {
   "cell_type": "markdown",
   "metadata": {
    "slideshow": {
     "slide_type": "slide"
    }
   },
   "source": [
    "4. In practice\n",
    "------\n",
    "    4.1 The measurements\n",
    "    \n",
    "We will analyze measurements made by the Dutch meteorological institute (KNMI, courtesy Piet Stammes) with a SPUV-6 sun photometer. The instrument is equipped with a sun-tracker as depicted in figure 6."
   ]
  },
  {
   "cell_type": "markdown",
   "metadata": {
    "slideshow": {
     "slide_type": "slide"
    }
   },
   "source": [
    "<figure>\n",
    "  <img src=\"rs6.png\">\n",
    "  <figcaption> <i>Figure 6: The SPUV instrument with sun-tracker.</i></figcaption>\n",
    "</figure>"
   ]
  },
  {
   "cell_type": "markdown",
   "metadata": {},
   "source": [
    "Measurements are made at the wavelengths 368, 501, 675, 780, 871, and 940 nm (visible and near-infrared). An example of the raw measurement data for three wavelengths at one particular day is given in figure 7. "
   ]
  },
  {
   "cell_type": "markdown",
   "metadata": {
    "slideshow": {
     "slide_type": "slide"
    }
   },
   "source": [
    "<figure>\n",
    "  <img src=\"rs8.jpg\">\n",
    "  <figcaption> <i>Figure 7: solar irradiance (non-calibrated data counts) as a function of time for three wavelengths (368, 501, and 780 nm).</i></figcaption>\n",
    "</figure>"
   ]
  },
  {
   "cell_type": "markdown",
   "metadata": {
    "slideshow": {
     "slide_type": "slide"
    }
   },
   "source": [
    "Several important features can be noted. First, the shape of the curves is different. For the longer wavelengths the signal increases more rapidly at sunrise (sunset is obscured by clouds). This is due to the more efficient Rayleigh and aerosol scattering at shorter wavelengths. If the optical path through the atmosphere is long (e.g. just after sunrise) a large part of the short-wave radiation is scattered out of the solar beam. For longer wavelength, the optical depth is smaller, and the intensity rises faster.\n",
    "Second, the afternoon is characterized by an irregular signal. This is due to the occurrence of (afternoon) cloudiness. Clouds have a high optical thickness that often totally blocks the direct solar beam.\n",
    "\n",
    "    4.2 Deriving aerosol optical depth\n",
    "How can we now derive the optical depth that is caused by aerosols? For that, we have to deal with the optical depth caused by (i) Rayleigh scattering, and (ii) gaseous absorption. The Rayleigh scattering optical depth can be estimated by considering the surface pressure. The number of air molecules in the overhead air column determines the surface pressure. The calculated Rayleigh optical depth at sea level pressure is given in Table 1 (note that the surface pressure changes in time due to high and low pressure systems, but we will ignore this effect). Next to Rayleigh scattering, ozone has a weak absorption band in the visible wavelength. This results in a small correction of the optical depth that is also given in Table 1. With this information it is possible to retrieve the aerosol optical depth from the SPUV measurements.  "
   ]
  },
  {
   "cell_type": "markdown",
   "metadata": {
    "slideshow": {
     "slide_type": "slide"
    }
   },
   "source": [
    "<table>\n",
    "  <caption>Table 1: Ozone absorption and Rayleigh optical depth for the various wavelengths of the SPUV instrument (calculated at sea level and standard ozone column).\n",
    "</caption>\n",
    "<tr>\n",
    "<th>Wavelength λ (nm)</th>\n",
    "<th>Ozone absorption optical depth τ$_{O3}$(-)</th>\n",
    "<th>Rayleigh optical depth τ$_{Rayleigh}$(-)</th>\n",
    "</tr>\n",
    "<tr>\n",
    "<td>368.5</td>\n",
    "<td>0.00008</td>\n",
    "<td>0.50868</td>\n",
    "</tr>\n",
    "<tr>\n",
    "<td>501.4</td>\n",
    "<td>0.01191</td>\n",
    "<td>0.14205</td>\n",
    "</tr>\n",
    "<tr>\n",
    "<td>674.6</td>\n",
    "<td>0.01388</td>\n",
    "<td>0.04242</td>\n",
    "</tr>\n",
    "<tr>\n",
    "<td>780.4</td>\n",
    "<td>0.00255</td>\n",
    "<td>0.02352</td>\n",
    "</tr>\n",
    "<tr>\n",
    "<td>871.2</td>\n",
    "<td>0.00000</td>\n",
    "<td>0.01508</td>\n",
    "</tr>\n",
    "<tr>\n",
    "<td>938.9</td>\n",
    "<td>0.00000</td>\n",
    "<td>0.01106</td>\n",
    "</tr>\n",
    "</table>"
   ]
  },
  {
   "cell_type": "markdown",
   "metadata": {
    "slideshow": {
     "slide_type": "slide"
    }
   },
   "source": [
    "    4.3 Deriving the Ångstrom coefficient α \n",
    "Since measurements are available at various wavelengths, it is possible to investigate the relation between wavelength and aerosol optical depth. In the introduction it was argued that large aerosol particles behave more like ‘white’ objects, which means that the optical depth depends only weakly on wavelength. Small particles show a larger wavelength dependency of the aerosol optical depth. A way to express the wavelength dependency of the aerosol optical depth is through the Ångstrom coefficient α:\n",
    "\n",
    "\\begin{equation}\n",
    "\\tau_a^*(\\lambda) = \\beta\\lambda^{-\\alpha}\n",
    "\\end{equation}\n",
    "\n",
    "taking the natural logarithm:\n",
    "\n",
    "\\begin{equation}\n",
    "\\ln(\\tau_a^*(\\lambda)) = \\ln(\\beta) - \\alpha \\ln(\\lambda)\n",
    "\\end{equation}\n",
    "\n",
    "\n",
    "Typical values for α are:\n",
    "- α = 4:  Rayleigh scattering\n",
    "- α = 0: Geometrical scattering (large particles like clouds)\n",
    "- α = 1.3:  Typical atmospheric aerosol\n",
    "         \n",
    "         \n",
    "Large aerosol particles typically have α < 1.3 and small aerosol particles typically have α > 1.3.\n",
    "By relating the natural logarithm of λ to the natural logarithm of $\\tau_a^*(\\lambda)$ , the value of α can be obtained.\n",
    "\n",
    "    4.4 Research Questions\n",
    "\n",
    "The task of this hands-on program is to answer the following questions based on measurements made at a site in the Netherlands: \n",
    "- What is a typical aerosol optical depth in the Netherlands and what is the variability in time?\n",
    "- Is there a difference between morning and afternoon measurements?\n",
    "- Can we reliably determine α from the measurements? \n",
    "- What is the error in the Langley retrieval method?\n",
    "- Is there a relation between the aerosol optical depth and specific weather patterns?\n",
    "\n",
    "The analyzed dataset is strongly biased towards clear cloudless days. In the Netherlands, this often means easterly winds. But winds from the north east bring clean polar air, while more southerly winds bring pollution from Germany and Belgian to the Netherlands. Is there a relation between the the observed AOT and specific weather patterns?  And are the particles smaller on dirty days (α > 1.3)?\n",
    "\n",
    "5. Analysis\n",
    "------\n",
    "    Exercise 1: Radiance measurements \n",
    "    \n",
    "The practical runs the analysis software inline. So, you will see code that you can modify, but this is not necessary.\n",
    "Only if you want to perform additional analysis, you can try to modify the code. Make sure you have a backup in that case!\n",
    "\n",
    "The code below reads and presents the information for this practical. It is written in a langage called **python**. \n",
    "You do not have to understand it all, but depending on the settings of the widgets, it will present the results in a graph. Try to experiment a bit with the settings."
   ]
  },
  {
   "cell_type": "code",
   "execution_count": 1,
   "metadata": {
    "slideshow": {
     "slide_type": "slide"
    }
   },
   "outputs": [
    {
     "data": {
      "image/png": "[encoded data removed]",
      "text/plain": [
       "<matplotlib.figure.Figure at 0x10470da20>"
      ]
     },
     "metadata": {},
     "output_type": "display_data"
    }
   ],
   "source": [
    "%matplotlib inline\n",
    "#load program to plot:\n",
    "from aerosol_prog import *\n",
    "ae = aerosol_prog()"
   ]
  },
  {
   "cell_type": "markdown",
   "metadata": {
    "slideshow": {
     "slide_type": "slide"
    }
   },
   "source": [
    "\n",
    "You are asked to select a particular day for analysis. Select those days that you have been asked to analyze.\n",
    "By selecting `calibrated radiances` you see values that have the units (W m$^{-2}$nm$^{-1}$). Answer the following block of questions (you may simply type your answers in the notebook, by clicking on the questions):"
   ]
  },
  {
   "cell_type": "markdown",
   "metadata": {
    "slideshow": {
     "slide_type": "fragment"
    }
   },
   "source": [
    "\n",
    "1. At which wavelength is the amount of energy at its maximum?\n",
    "..\n",
    "2. Are there clouds present in the morning/afternoon?\n",
    "..\n",
    "3. What explains the different ‘shapes’ at different wavelengths?\n",
    ".."
   ]
  },
  {
   "cell_type": "markdown",
   "metadata": {
    "slideshow": {
     "slide_type": "slide"
    }
   },
   "source": [
    "    Exercise 2: The optical depth from Langley plots \n",
    "Now, we will move to a representation of the “Langley plot”. In this representation $ln{L_{\\lambda}(\\tau_\\lambda^*)}$ is plotted against the so-called air mass $m = 1/\\cos{\\theta_0}$. The airmass $m$ can be interpreted as the number of verticle atmospheres the light from the sun to the satellite is crossing. This value is large in the early morning and late evening. You can check this out by slecting `airmass` as `representation` above."
   ]
  },
  {
   "cell_type": "markdown",
   "metadata": {
    "slideshow": {
     "slide_type": "slide"
    }
   },
   "source": [
    "Address the follwing questions:\n",
    "\n",
    "4. How do the values of $m$ and the solar zenith angle change during the day? \n",
    "...\n",
    "5. How does the minimum $m$ value change during the year?\n",
    "...\n",
    "6. Why is the value of $m$ always larger than 1?\n",
    "....\n"
   ]
  },
  {
   "cell_type": "markdown",
   "metadata": {
    "slideshow": {
     "slide_type": "fragment"
    }
   },
   "source": [
    "The next step is to create the Langley plots. Note that we can make a Langley plot for sun-rise and sun-set. We create a mechanism to select `morning` and `afternoon`. In order to estimate the aerosol optical depth $\\tau_{Aerosol}$ during a short time interval with fast changing $m$, we also create a mechanism to set the lower and upper values for $m$ during the analysis. Default values are 4 and 6, respectively. "
   ]
  },
  {
   "cell_type": "code",
   "execution_count": 2,
   "metadata": {},
   "outputs": [
    {
     "data": {
      "image/png": "[encoded data removed]",
      "text/plain": [
       "<matplotlib.figure.Figure at 0x10473dd30>"
      ]
     },
     "metadata": {},
     "output_type": "display_data"
    }
   ],
   "source": [
    "%matplotlib inline\n",
    "#load program to plot:\n",
    "from aerosol_prog import *\n",
    "from langley_prog import *\n",
    "ael = langley_prog()"
   ]
  },
  {
   "cell_type": "markdown",
   "metadata": {},
   "source": [
    "Address the following questions:\n",
    "\n",
    "7. How do the slopes vary as a function of the wavelength?\n",
    "\n",
    "\n",
    "8. What is the effect of clouds in a Langley plot?\n",
    "9. Which data are more useful for analysis, morning or afternoon data? "
   ]
  },
  {
   "cell_type": "markdown",
   "metadata": {
    "slideshow": {
     "slide_type": "slide"
    }
   },
   "source": [
    "    Exercise 3: Wavelength dependence: Ångstrom coefficient α\n",
    "\n",
    "Finally, we will determine the slopes (= optical thickness) at various wavelengths. If you select `representation` as `Langley slope` the program will automatically determine the slope of the ‘straight’ line. The value of the slope is needed to estimate the AOT.\n",
    "However, there is an issue with clouds! The least squares fit that is made, will consider also the optical effects of the clouds. So, it is important that you select (short) periods in which the cloud effects can be ignored. This can be done by using the sliders `mmin` and `mmax`. Since the slopes vary considerably with wavelength, it is better to select one wavelength at a time.\n"
   ]
  },
  {
   "cell_type": "code",
   "execution_count": 3,
   "metadata": {
    "scrolled": true,
    "slideshow": {
     "slide_type": "slide"
    }
   },
   "outputs": [
    {
     "name": "stdout",
     "output_type": "stream",
     "text": [
      "Analysis for DATA/020109.dat.SPUV morning\n"
     ]
    },
    {
     "data": {
      "text/html": [
       "<table><tr><td>$\\lambda$ (nm)</td><td>τ$_{total}$ (-)</td><td>τ$_{O3}$ (-)</td><td>τ$_{Rayleigh}$ (-)</td><td>τ$_{Aerorol}$ (-)</td></tr><tr><td>368</td><td>-0.0</td><td>8e-05</td><td>0.50868</td><td>-0.50876</td></tr><tr><td>501</td><td>-0.0</td><td>0.01191</td><td>0.14205</td><td>-0.15396</td></tr><tr><td>670</td><td>-0.0</td><td>0.01388</td><td>0.04242</td><td>-0.0563</td></tr><tr><td>780</td><td>-0.0</td><td>0.00255</td><td>0.02352</td><td>-0.02607</td></tr><tr><td>870</td><td>-0.0</td><td>0.0</td><td>0.01508</td><td>-0.01508</td></tr><tr><td>940</td><td>-0.0</td><td>0.0</td><td>0.01106</td><td>-0.01106</td></tr></table>"
      ],
      "text/plain": [
       "[['$\\\\lambda$ (nm)',\n",
       "  'τ$_{total}$ (-)',\n",
       "  'τ$_{O3}$ (-)',\n",
       "  'τ$_{Rayleigh}$ (-)',\n",
       "  'τ$_{Aerorol}$ (-)'],\n",
       " [368,\n",
       "  -0.0,\n",
       "  8.0000000000000007e-05,\n",
       "  0.50868000000000002,\n",
       "  -0.50875999999999999],\n",
       " [501, -0.0, 0.01191, 0.14205000000000001, -0.15396000000000001],\n",
       " [670, -0.0, 0.01388, 0.042419999999999999, -0.056300000000000003],\n",
       " [780,\n",
       "  -0.0,\n",
       "  0.0025500000000000002,\n",
       "  0.023519999999999999,\n",
       "  -0.026069999999999999],\n",
       " [870, -0.0, 0.0, 0.01508, -0.01508],\n",
       " [940, -0.0, 0.0, 0.01106, -0.01106]]"
      ]
     },
     "execution_count": 3,
     "metadata": {},
     "output_type": "execute_result"
    }
   ],
   "source": [
    "from ListTable import *\n",
    "# ttot--> should be the -slope of the Langley plots at the different wavelength   \n",
    "# repeat for morning and afternoon:\n",
    "ttot = -ael.slopes\n",
    "   \n",
    "wls = array([368,501,670,780,870,940])\n",
    "to3 = array([0.00008,0.01191,0.01388,0.00255,0.0000,0.0000])\n",
    "tra = array([0.50868,0.14205,0.04242,0.02352,0.01508,0.01106])\n",
    "aot = ttot-to3-tra\n",
    "\n",
    "table = ListTable()\n",
    "table.append(['$\\lambda$ (nm)', 'τ$_{total}$ (-)', 'τ$_{O3}$ (-)', 'τ$_{Rayleigh}$ (-)', 'τ$_{Aerorol}$ (-)'])\n",
    "for i in range(6):\n",
    "    table.append([wls[i],ttot[i],to3[i],tra[i],aot[i]])\n",
    "print ('Analysis for '+ael.title+' '+ael.dayfraction)\n",
    "table\n"
   ]
  },
  {
   "cell_type": "code",
   "execution_count": null,
   "metadata": {
    "collapsed": true
   },
   "outputs": [],
   "source": []
  },
  {
   "cell_type": "markdown",
   "metadata": {
    "slideshow": {
     "slide_type": "slide"
    }
   },
   "source": [
    "As explained above, the slopes represent the total optical depth. By correcting for ozone absorption and Rayleigh scattering, the Aerosol Optical Thickness (AOT) can be derived. For the wavelength selected, the calculated slopes are displayed in the legend, and also stored in a variable called `ael.slopes`. This variable is used below to calculate the AOT and to create a table. \n",
    "\n",
    "* Create tables for `morning` and `afternoon`.\n",
    "\n",
    "Address the following questions:\n",
    "\n",
    "* Verify the Rayleigh relation: τ$_{Rayleigh}$  proportional to λ$^{-4}$\n",
    "\n",
    "   You can do this by plotting ln(τ$_{Rayleigh}$) as a function of ln(λ) and fit a straight line:\n",
    "       \n",
    "        f,ax = subplots()\n",
    "        ax.plot(log(wls),log(tra),'ro')\n",
    "        print(polyfit(log(wls),log(tra),1))\n",
    "\n",
    "* What is the difference between the morning and afternoon AOT values? Can you explain?\n",
    "\n",
    "        Here, you should run the code above for morning and afternoon slopes.\n",
    "        \n",
    "* Plot AOT against λ (see small program below). What do you observe? Why is the AOT larger for the shorter wavelengths? Estimate the AOT at 550 nm by interpolation.\n",
    "\n",
    "        The interpolation can be done in many ways...even in excell. \n",
    "        Advanced users can write a small piece of python code to fit a polynomial to extract the AOT at 550 nm\n",
    "        \n",
    "* Guided by figure 2b, why do you think 938.9 nm is an outlier?\n",
    "* Determine α, by leaving out 938.9 nm. From the results, are the aerosols large or small? Is there a difference between morning and afternoon?\n",
    "\n",
    "        There is a small example program to do this below\n",
    "        \n",
    "* Based on several aspects of the procedure (fitting, air mass, …) attempt an error estimate for AOT and α.\n",
    "\n",
    "        This can be done quickly by e.g. using the sliders to modify the m-window for the fit\n",
    "        \n",
    "**Note**: to do the analysis of a day, you can simply insert a cell and type: \n",
    "\n",
    "        my_aer = langley_prog()\n"
   ]
  },
  {
   "cell_type": "code",
   "execution_count": 8,
   "metadata": {
    "slideshow": {
     "slide_type": "slide"
    }
   },
   "outputs": [
    {
     "name": "stdout",
     "output_type": "stream",
     "text": [
      "Analysis for DATA/020109.dat.SPUV morning\n"
     ]
    },
    {
     "data": {
      "text/plain": [
       "<matplotlib.text.Text at 0x10410a8d0>"
      ]
     },
     "execution_count": 8,
     "metadata": {},
     "output_type": "execute_result"
    },
    {
     "data": {
      "image/png": "[encoded data removed]",
      "text/plain": [
       "<matplotlib.figure.Figure at 0x103f76470>"
      ]
     },
     "metadata": {},
     "output_type": "display_data"
    }
   ],
   "source": [
    "# plot AOT vs. Wavelenght:\n",
    "print('Analysis for '+ael.title+' '+ael.dayfraction)\n",
    "f,ax = subplots()\n",
    "ax.plot(wls,aot,'ro-',label=ael.dayfraction)\n",
    "ax.set_title('AOT versus wavelength')\n",
    "ax.set_xlabel('$\\lambda$ (nm)')\n",
    "ax.set_ylabel('Aerosol Optical Thickness')\n"
   ]
  },
  {
   "cell_type": "code",
   "execution_count": 9,
   "metadata": {
    "slideshow": {
     "slide_type": "slide"
    }
   },
   "outputs": [
    {
     "name": "stdout",
     "output_type": "stream",
     "text": [
      "Analysis for DATA/020109.dat.SPUV morning\n"
     ]
    },
    {
     "data": {
      "text/plain": [
       "<matplotlib.legend.Legend at 0x104102470>"
      ]
     },
     "execution_count": 9,
     "metadata": {},
     "output_type": "execute_result"
    },
    {
     "data": {
      "image/png": "[encoded data removed]",
      "text/plain": [
       "<matplotlib.figure.Figure at 0x1038d7e80>"
      ]
     },
     "metadata": {},
     "output_type": "display_data"
    }
   ],
   "source": [
    "#small program to plot and fit ln(AOT) vs. ln(lambda), note that 940 nm is excluded:\n",
    "lnaot = log(aot[:5])\n",
    "lnl   = log(wls[:5])\n",
    "print('Analysis for '+ael.title+' '+ael.dayfraction)\n",
    "f,ax = subplots()\n",
    "ax.plot(lnl,lnaot,'ro')\n",
    "res = polyfit(lnl,lnaot,1)\n",
    "ax.plot(lnl,lnl*res[0]+res[1],'r-',label = 'y=%6.3fx + %6.3f'%(res[0],res[1]))\n",
    "ax.set_title(\"Angstrom relation\")\n",
    "ax.set_xlabel('ln($\\lambda$)')\n",
    "ax.set_ylabel(\"ln(AOT)\")\n",
    "ax.legend(loc='best')"
   ]
  },
  {
   "cell_type": "markdown",
   "metadata": {
    "slideshow": {
     "slide_type": "slide"
    }
   },
   "source": [
    "    Exercise 4: Effect of meteorology\n",
    "\n",
    "In order to investigate the weather pattern on the day the SPUV measurements were taken, you will consult an archive of weather maps at: http://www.wetterzentrale.de/topkarten/fsavneur.html\n",
    "\n",
    "         select archiv\n",
    "         "
   ]
  },
  {
   "cell_type": "markdown",
   "metadata": {
    "slideshow": {
     "slide_type": "fragment"
    }
   },
   "source": [
    "Consider the following points:\n",
    "\n",
    "* Retrieve the 500hPa Geopot./Bodendruck map of the analysis day\n",
    "* Estimate the wind direction, wind speed, and air-mass origin over central Netherlands\n",
    "* Does this explain the observed value of the AOT and the size parameter α? Compare your results to other groups."
   ]
  },
  {
   "cell_type": "markdown",
   "metadata": {
    "slideshow": {
     "slide_type": "fragment"
    }
   },
   "source": [
    "    References\n",
    "- Jacob, D. J. (1999), Introduction to Atmospheric Chemistry, 266 pp., Princeton University Press, Princeton, New Jersey.\n",
    "- Stephens, G. L. (1994), Remote Sensing of the Lower Atmosphere, An Introduction, 523 pp., Oxford University Press, New York.\f"
   ]
  }
 ],
 "metadata": {
  "kernelspec": {
   "display_name": "Python 3",
   "language": "python",
   "name": "python3"
  },
  "language_info": {
   "codemirror_mode": {
    "name": "ipython",
    "version": 3
   },
   "file_extension": ".py",
   "mimetype": "text/x-python",
   "name": "python",
   "nbconvert_exporter": "python",
   "pygments_lexer": "ipython3",
   "version": "3.6.5"
  }
 },
 "nbformat": 4,
 "nbformat_minor": 1
}
